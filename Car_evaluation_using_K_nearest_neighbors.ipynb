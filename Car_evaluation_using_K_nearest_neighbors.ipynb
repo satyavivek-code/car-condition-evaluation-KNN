{
 "cells": [
  {
   "cell_type": "markdown",
   "id": "937e038f-db25-43e6-9364-f6fdb1f7b00f",
   "metadata": {},
   "source": [
    "### Car condition evaluation Using K-nearest neighbour classifier algorithm"
   ]
  },
  {
   "cell_type": "code",
   "execution_count": 23,
   "id": "f5cf4402-2c1f-485e-8024-a7166abf515a",
   "metadata": {},
   "outputs": [],
   "source": [
    "import pandas as pd\n",
    "import numpy as np\n",
    "import matplotlib.pyplot as plt\n",
    "from sklearn.utils import shuffle\n",
    "from sklearn import linear_model, preprocessing\n",
    "from sklearn.model_selection import train_test_split\n",
    "from sklearn.neighbors import KNeighborsClassifier"
   ]
  },
  {
   "cell_type": "code",
   "execution_count": 7,
   "id": "051e6fcb-15e1-4a44-90fc-4b929684d4aa",
   "metadata": {},
   "outputs": [],
   "source": [
    "df = pd.read_csv('car.data')"
   ]
  },
  {
   "cell_type": "code",
   "execution_count": 42,
   "id": "8ddf9603-2024-4c51-8085-211ac46aa3f1",
   "metadata": {},
   "outputs": [
    {
     "data": {
      "text/html": [
       "<div>\n",
       "<style scoped>\n",
       "    .dataframe tbody tr th:only-of-type {\n",
       "        vertical-align: middle;\n",
       "    }\n",
       "\n",
       "    .dataframe tbody tr th {\n",
       "        vertical-align: top;\n",
       "    }\n",
       "\n",
       "    .dataframe thead th {\n",
       "        text-align: right;\n",
       "    }\n",
       "</style>\n",
       "<table border=\"1\" class=\"dataframe\">\n",
       "  <thead>\n",
       "    <tr style=\"text-align: right;\">\n",
       "      <th></th>\n",
       "      <th>buying</th>\n",
       "      <th>maint</th>\n",
       "      <th>doors</th>\n",
       "      <th>persons</th>\n",
       "      <th>lug_boot</th>\n",
       "      <th>safety</th>\n",
       "      <th>class</th>\n",
       "    </tr>\n",
       "  </thead>\n",
       "  <tbody>\n",
       "    <tr>\n",
       "      <th>0</th>\n",
       "      <td>vhigh</td>\n",
       "      <td>vhigh</td>\n",
       "      <td>2</td>\n",
       "      <td>2</td>\n",
       "      <td>small</td>\n",
       "      <td>low</td>\n",
       "      <td>unacc</td>\n",
       "    </tr>\n",
       "    <tr>\n",
       "      <th>1</th>\n",
       "      <td>vhigh</td>\n",
       "      <td>vhigh</td>\n",
       "      <td>2</td>\n",
       "      <td>2</td>\n",
       "      <td>small</td>\n",
       "      <td>med</td>\n",
       "      <td>unacc</td>\n",
       "    </tr>\n",
       "    <tr>\n",
       "      <th>2</th>\n",
       "      <td>vhigh</td>\n",
       "      <td>vhigh</td>\n",
       "      <td>2</td>\n",
       "      <td>2</td>\n",
       "      <td>small</td>\n",
       "      <td>high</td>\n",
       "      <td>unacc</td>\n",
       "    </tr>\n",
       "    <tr>\n",
       "      <th>3</th>\n",
       "      <td>vhigh</td>\n",
       "      <td>vhigh</td>\n",
       "      <td>2</td>\n",
       "      <td>2</td>\n",
       "      <td>med</td>\n",
       "      <td>low</td>\n",
       "      <td>unacc</td>\n",
       "    </tr>\n",
       "    <tr>\n",
       "      <th>4</th>\n",
       "      <td>vhigh</td>\n",
       "      <td>vhigh</td>\n",
       "      <td>2</td>\n",
       "      <td>2</td>\n",
       "      <td>med</td>\n",
       "      <td>med</td>\n",
       "      <td>unacc</td>\n",
       "    </tr>\n",
       "  </tbody>\n",
       "</table>\n",
       "</div>"
      ],
      "text/plain": [
       "  buying  maint doors persons lug_boot safety  class\n",
       "0  vhigh  vhigh     2       2    small    low  unacc\n",
       "1  vhigh  vhigh     2       2    small    med  unacc\n",
       "2  vhigh  vhigh     2       2    small   high  unacc\n",
       "3  vhigh  vhigh     2       2      med    low  unacc\n",
       "4  vhigh  vhigh     2       2      med    med  unacc"
      ]
     },
     "execution_count": 42,
     "metadata": {},
     "output_type": "execute_result"
    }
   ],
   "source": [
    "df.head()"
   ]
  },
  {
   "cell_type": "code",
   "execution_count": 11,
   "id": "9a8d4941-3718-45f4-a9ba-c27ff7d4d171",
   "metadata": {},
   "outputs": [
    {
     "name": "stdout",
     "output_type": "stream",
     "text": [
      "<class 'pandas.core.frame.DataFrame'>\n",
      "RangeIndex: 1728 entries, 0 to 1727\n",
      "Data columns (total 7 columns):\n",
      " #   Column    Non-Null Count  Dtype \n",
      "---  ------    --------------  ----- \n",
      " 0   buying    1728 non-null   object\n",
      " 1   maint     1728 non-null   object\n",
      " 2   doors     1728 non-null   object\n",
      " 3   persons   1728 non-null   object\n",
      " 4   lug_boot  1728 non-null   object\n",
      " 5   safety    1728 non-null   object\n",
      " 6   class     1728 non-null   object\n",
      "dtypes: object(7)\n",
      "memory usage: 94.6+ KB\n"
     ]
    }
   ],
   "source": [
    "df.info()"
   ]
  },
  {
   "cell_type": "code",
   "execution_count": 14,
   "id": "567e189e-d95e-4fab-9bff-869988d66aaf",
   "metadata": {},
   "outputs": [
    {
     "data": {
      "text/plain": [
       "buying      0\n",
       "maint       0\n",
       "doors       0\n",
       "persons     0\n",
       "lug_boot    0\n",
       "safety      0\n",
       "class       0\n",
       "dtype: int64"
      ]
     },
     "execution_count": 14,
     "metadata": {},
     "output_type": "execute_result"
    }
   ],
   "source": [
    "df.isnull().sum()"
   ]
  },
  {
   "cell_type": "code",
   "execution_count": 15,
   "id": "354565a5-6efe-4081-a398-cdbdaafba8fa",
   "metadata": {},
   "outputs": [],
   "source": [
    "le = preprocessing.LabelEncoder()"
   ]
  },
  {
   "cell_type": "code",
   "execution_count": 21,
   "id": "61a4cc7b-8b71-48cd-8ec8-1a8218383480",
   "metadata": {},
   "outputs": [],
   "source": [
    "buying = le.fit_transform(list(df['buying']))\n",
    "maint = le.fit_transform(list(df['maint']))\n",
    "doors = le.fit_transform(list(df['doors']))\n",
    "persons = le.fit_transform(list(df['persons']))\n",
    "lug_boot = le.fit_transform(list(df['lug_boot']))\n",
    "safety = le.fit_transform(list(df['safety']))\n",
    "cls = le.fit_transform(list(df['class']))"
   ]
  },
  {
   "cell_type": "code",
   "execution_count": 24,
   "id": "96564e34-9b72-4564-a731-026dd61d3f9b",
   "metadata": {},
   "outputs": [],
   "source": [
    "X = list(zip(buying, maint, doors, persons, lug_boot, safety))\n",
    "y = list(cls)"
   ]
  },
  {
   "cell_type": "code",
   "execution_count": 25,
   "id": "7fa98829-a895-42ac-80e2-b7feeed14404",
   "metadata": {},
   "outputs": [],
   "source": [
    "X_train, X_test, y_train, y_test = train_test_split(X, y, test_size = 0.2)\n"
   ]
  },
  {
   "cell_type": "code",
   "execution_count": 31,
   "id": "b655f07f-d875-4b61-a927-52443b299e26",
   "metadata": {},
   "outputs": [],
   "source": [
    "model = KNeighborsClassifier(n_neighbors = 9)"
   ]
  },
  {
   "cell_type": "code",
   "execution_count": 32,
   "id": "e935ed91-1477-46d2-ad99-883e84b2c2e9",
   "metadata": {},
   "outputs": [
    {
     "data": {
      "text/html": [
       "<style>#sk-container-id-4 {color: black;}#sk-container-id-4 pre{padding: 0;}#sk-container-id-4 div.sk-toggleable {background-color: white;}#sk-container-id-4 label.sk-toggleable__label {cursor: pointer;display: block;width: 100%;margin-bottom: 0;padding: 0.3em;box-sizing: border-box;text-align: center;}#sk-container-id-4 label.sk-toggleable__label-arrow:before {content: \"▸\";float: left;margin-right: 0.25em;color: #696969;}#sk-container-id-4 label.sk-toggleable__label-arrow:hover:before {color: black;}#sk-container-id-4 div.sk-estimator:hover label.sk-toggleable__label-arrow:before {color: black;}#sk-container-id-4 div.sk-toggleable__content {max-height: 0;max-width: 0;overflow: hidden;text-align: left;background-color: #f0f8ff;}#sk-container-id-4 div.sk-toggleable__content pre {margin: 0.2em;color: black;border-radius: 0.25em;background-color: #f0f8ff;}#sk-container-id-4 input.sk-toggleable__control:checked~div.sk-toggleable__content {max-height: 200px;max-width: 100%;overflow: auto;}#sk-container-id-4 input.sk-toggleable__control:checked~label.sk-toggleable__label-arrow:before {content: \"▾\";}#sk-container-id-4 div.sk-estimator input.sk-toggleable__control:checked~label.sk-toggleable__label {background-color: #d4ebff;}#sk-container-id-4 div.sk-label input.sk-toggleable__control:checked~label.sk-toggleable__label {background-color: #d4ebff;}#sk-container-id-4 input.sk-hidden--visually {border: 0;clip: rect(1px 1px 1px 1px);clip: rect(1px, 1px, 1px, 1px);height: 1px;margin: -1px;overflow: hidden;padding: 0;position: absolute;width: 1px;}#sk-container-id-4 div.sk-estimator {font-family: monospace;background-color: #f0f8ff;border: 1px dotted black;border-radius: 0.25em;box-sizing: border-box;margin-bottom: 0.5em;}#sk-container-id-4 div.sk-estimator:hover {background-color: #d4ebff;}#sk-container-id-4 div.sk-parallel-item::after {content: \"\";width: 100%;border-bottom: 1px solid gray;flex-grow: 1;}#sk-container-id-4 div.sk-label:hover label.sk-toggleable__label {background-color: #d4ebff;}#sk-container-id-4 div.sk-serial::before {content: \"\";position: absolute;border-left: 1px solid gray;box-sizing: border-box;top: 0;bottom: 0;left: 50%;z-index: 0;}#sk-container-id-4 div.sk-serial {display: flex;flex-direction: column;align-items: center;background-color: white;padding-right: 0.2em;padding-left: 0.2em;position: relative;}#sk-container-id-4 div.sk-item {position: relative;z-index: 1;}#sk-container-id-4 div.sk-parallel {display: flex;align-items: stretch;justify-content: center;background-color: white;position: relative;}#sk-container-id-4 div.sk-item::before, #sk-container-id-4 div.sk-parallel-item::before {content: \"\";position: absolute;border-left: 1px solid gray;box-sizing: border-box;top: 0;bottom: 0;left: 50%;z-index: -1;}#sk-container-id-4 div.sk-parallel-item {display: flex;flex-direction: column;z-index: 1;position: relative;background-color: white;}#sk-container-id-4 div.sk-parallel-item:first-child::after {align-self: flex-end;width: 50%;}#sk-container-id-4 div.sk-parallel-item:last-child::after {align-self: flex-start;width: 50%;}#sk-container-id-4 div.sk-parallel-item:only-child::after {width: 0;}#sk-container-id-4 div.sk-dashed-wrapped {border: 1px dashed gray;margin: 0 0.4em 0.5em 0.4em;box-sizing: border-box;padding-bottom: 0.4em;background-color: white;}#sk-container-id-4 div.sk-label label {font-family: monospace;font-weight: bold;display: inline-block;line-height: 1.2em;}#sk-container-id-4 div.sk-label-container {text-align: center;}#sk-container-id-4 div.sk-container {/* jupyter's `normalize.less` sets `[hidden] { display: none; }` but bootstrap.min.css set `[hidden] { display: none !important; }` so we also need the `!important` here to be able to override the default hidden behavior on the sphinx rendered scikit-learn.org. See: https://github.com/scikit-learn/scikit-learn/issues/21755 */display: inline-block !important;position: relative;}#sk-container-id-4 div.sk-text-repr-fallback {display: none;}</style><div id=\"sk-container-id-4\" class=\"sk-top-container\"><div class=\"sk-text-repr-fallback\"><pre>KNeighborsClassifier(n_neighbors=9)</pre><b>In a Jupyter environment, please rerun this cell to show the HTML representation or trust the notebook. <br />On GitHub, the HTML representation is unable to render, please try loading this page with nbviewer.org.</b></div><div class=\"sk-container\" hidden><div class=\"sk-item\"><div class=\"sk-estimator sk-toggleable\"><input class=\"sk-toggleable__control sk-hidden--visually\" id=\"sk-estimator-id-4\" type=\"checkbox\" checked><label for=\"sk-estimator-id-4\" class=\"sk-toggleable__label sk-toggleable__label-arrow\">KNeighborsClassifier</label><div class=\"sk-toggleable__content\"><pre>KNeighborsClassifier(n_neighbors=9)</pre></div></div></div></div></div>"
      ],
      "text/plain": [
       "KNeighborsClassifier(n_neighbors=9)"
      ]
     },
     "execution_count": 32,
     "metadata": {},
     "output_type": "execute_result"
    }
   ],
   "source": [
    "model"
   ]
  },
  {
   "cell_type": "code",
   "execution_count": 33,
   "id": "654646ad-417a-4d11-bef7-ab90cbeb7eca",
   "metadata": {},
   "outputs": [
    {
     "data": {
      "text/html": [
       "<style>#sk-container-id-5 {color: black;}#sk-container-id-5 pre{padding: 0;}#sk-container-id-5 div.sk-toggleable {background-color: white;}#sk-container-id-5 label.sk-toggleable__label {cursor: pointer;display: block;width: 100%;margin-bottom: 0;padding: 0.3em;box-sizing: border-box;text-align: center;}#sk-container-id-5 label.sk-toggleable__label-arrow:before {content: \"▸\";float: left;margin-right: 0.25em;color: #696969;}#sk-container-id-5 label.sk-toggleable__label-arrow:hover:before {color: black;}#sk-container-id-5 div.sk-estimator:hover label.sk-toggleable__label-arrow:before {color: black;}#sk-container-id-5 div.sk-toggleable__content {max-height: 0;max-width: 0;overflow: hidden;text-align: left;background-color: #f0f8ff;}#sk-container-id-5 div.sk-toggleable__content pre {margin: 0.2em;color: black;border-radius: 0.25em;background-color: #f0f8ff;}#sk-container-id-5 input.sk-toggleable__control:checked~div.sk-toggleable__content {max-height: 200px;max-width: 100%;overflow: auto;}#sk-container-id-5 input.sk-toggleable__control:checked~label.sk-toggleable__label-arrow:before {content: \"▾\";}#sk-container-id-5 div.sk-estimator input.sk-toggleable__control:checked~label.sk-toggleable__label {background-color: #d4ebff;}#sk-container-id-5 div.sk-label input.sk-toggleable__control:checked~label.sk-toggleable__label {background-color: #d4ebff;}#sk-container-id-5 input.sk-hidden--visually {border: 0;clip: rect(1px 1px 1px 1px);clip: rect(1px, 1px, 1px, 1px);height: 1px;margin: -1px;overflow: hidden;padding: 0;position: absolute;width: 1px;}#sk-container-id-5 div.sk-estimator {font-family: monospace;background-color: #f0f8ff;border: 1px dotted black;border-radius: 0.25em;box-sizing: border-box;margin-bottom: 0.5em;}#sk-container-id-5 div.sk-estimator:hover {background-color: #d4ebff;}#sk-container-id-5 div.sk-parallel-item::after {content: \"\";width: 100%;border-bottom: 1px solid gray;flex-grow: 1;}#sk-container-id-5 div.sk-label:hover label.sk-toggleable__label {background-color: #d4ebff;}#sk-container-id-5 div.sk-serial::before {content: \"\";position: absolute;border-left: 1px solid gray;box-sizing: border-box;top: 0;bottom: 0;left: 50%;z-index: 0;}#sk-container-id-5 div.sk-serial {display: flex;flex-direction: column;align-items: center;background-color: white;padding-right: 0.2em;padding-left: 0.2em;position: relative;}#sk-container-id-5 div.sk-item {position: relative;z-index: 1;}#sk-container-id-5 div.sk-parallel {display: flex;align-items: stretch;justify-content: center;background-color: white;position: relative;}#sk-container-id-5 div.sk-item::before, #sk-container-id-5 div.sk-parallel-item::before {content: \"\";position: absolute;border-left: 1px solid gray;box-sizing: border-box;top: 0;bottom: 0;left: 50%;z-index: -1;}#sk-container-id-5 div.sk-parallel-item {display: flex;flex-direction: column;z-index: 1;position: relative;background-color: white;}#sk-container-id-5 div.sk-parallel-item:first-child::after {align-self: flex-end;width: 50%;}#sk-container-id-5 div.sk-parallel-item:last-child::after {align-self: flex-start;width: 50%;}#sk-container-id-5 div.sk-parallel-item:only-child::after {width: 0;}#sk-container-id-5 div.sk-dashed-wrapped {border: 1px dashed gray;margin: 0 0.4em 0.5em 0.4em;box-sizing: border-box;padding-bottom: 0.4em;background-color: white;}#sk-container-id-5 div.sk-label label {font-family: monospace;font-weight: bold;display: inline-block;line-height: 1.2em;}#sk-container-id-5 div.sk-label-container {text-align: center;}#sk-container-id-5 div.sk-container {/* jupyter's `normalize.less` sets `[hidden] { display: none; }` but bootstrap.min.css set `[hidden] { display: none !important; }` so we also need the `!important` here to be able to override the default hidden behavior on the sphinx rendered scikit-learn.org. See: https://github.com/scikit-learn/scikit-learn/issues/21755 */display: inline-block !important;position: relative;}#sk-container-id-5 div.sk-text-repr-fallback {display: none;}</style><div id=\"sk-container-id-5\" class=\"sk-top-container\"><div class=\"sk-text-repr-fallback\"><pre>KNeighborsClassifier(n_neighbors=9)</pre><b>In a Jupyter environment, please rerun this cell to show the HTML representation or trust the notebook. <br />On GitHub, the HTML representation is unable to render, please try loading this page with nbviewer.org.</b></div><div class=\"sk-container\" hidden><div class=\"sk-item\"><div class=\"sk-estimator sk-toggleable\"><input class=\"sk-toggleable__control sk-hidden--visually\" id=\"sk-estimator-id-5\" type=\"checkbox\" checked><label for=\"sk-estimator-id-5\" class=\"sk-toggleable__label sk-toggleable__label-arrow\">KNeighborsClassifier</label><div class=\"sk-toggleable__content\"><pre>KNeighborsClassifier(n_neighbors=9)</pre></div></div></div></div></div>"
      ],
      "text/plain": [
       "KNeighborsClassifier(n_neighbors=9)"
      ]
     },
     "execution_count": 33,
     "metadata": {},
     "output_type": "execute_result"
    }
   ],
   "source": [
    "model.fit(X_train, y_train)"
   ]
  },
  {
   "cell_type": "code",
   "execution_count": 34,
   "id": "ce8bc5d2-5460-4664-bc35-863f5d489e79",
   "metadata": {},
   "outputs": [],
   "source": [
    "accuracy = model.score(X_test, y_test)"
   ]
  },
  {
   "cell_type": "code",
   "execution_count": 35,
   "id": "d83b4261-4e6d-477c-9263-0c27b35bf835",
   "metadata": {},
   "outputs": [
    {
     "name": "stdout",
     "output_type": "stream",
     "text": [
      "0.9248554913294798\n"
     ]
    }
   ],
   "source": [
    "print(accuracy)"
   ]
  },
  {
   "cell_type": "code",
   "execution_count": 36,
   "id": "23c4c562-bc32-4df2-9ec8-6a1e0ca36f86",
   "metadata": {},
   "outputs": [],
   "source": [
    "predicted = model.predict(X_test)"
   ]
  },
  {
   "cell_type": "code",
   "execution_count": 39,
   "id": "492f4939-46bd-4aba-a339-1530e6feb208",
   "metadata": {},
   "outputs": [],
   "source": [
    "names = [\"unacc\", \"acc\", \"good\", \"vgood\"]"
   ]
  },
  {
   "cell_type": "code",
   "execution_count": 41,
   "id": "a8041bfe-3171-4f5a-8e12-8a8dd3e64e4a",
   "metadata": {},
   "outputs": [
    {
     "name": "stdout",
     "output_type": "stream",
     "text": [
      "Predicted: good Data:  (1, 1, 1, 0, 1, 0) Actual :  good\n",
      "Predicted: good Data:  (2, 1, 3, 2, 2, 1) Actual :  good\n",
      "Predicted: good Data:  (0, 0, 1, 2, 2, 1) Actual :  good\n",
      "Predicted: good Data:  (2, 2, 0, 0, 0, 1) Actual :  good\n",
      "Predicted: good Data:  (0, 3, 1, 1, 2, 0) Actual :  good\n",
      "Predicted: unacc Data:  (2, 2, 0, 1, 2, 0) Actual :  unacc\n",
      "Predicted: good Data:  (0, 3, 0, 1, 1, 1) Actual :  good\n",
      "Predicted: good Data:  (0, 3, 0, 2, 2, 0) Actual :  good\n",
      "Predicted: good Data:  (3, 0, 2, 0, 2, 2) Actual :  good\n",
      "Predicted: good Data:  (0, 2, 0, 0, 0, 2) Actual :  good\n",
      "Predicted: good Data:  (0, 1, 3, 0, 1, 1) Actual :  good\n",
      "Predicted: good Data:  (2, 2, 1, 0, 1, 2) Actual :  good\n",
      "Predicted: good Data:  (1, 1, 3, 2, 2, 1) Actual :  good\n",
      "Predicted: good Data:  (0, 3, 0, 2, 2, 2) Actual :  good\n",
      "Predicted: good Data:  (0, 0, 1, 2, 1, 2) Actual :  unacc\n",
      "Predicted: unacc Data:  (3, 0, 3, 2, 0, 2) Actual :  good\n",
      "Predicted: good Data:  (1, 3, 1, 0, 0, 0) Actual :  good\n",
      "Predicted: good Data:  (0, 3, 2, 1, 2, 2) Actual :  good\n",
      "Predicted: unacc Data:  (3, 2, 3, 2, 1, 2) Actual :  unacc\n",
      "Predicted: good Data:  (2, 2, 2, 1, 2, 1) Actual :  good\n",
      "Predicted: good Data:  (0, 1, 0, 2, 0, 1) Actual :  good\n",
      "Predicted: unacc Data:  (0, 1, 0, 2, 1, 0) Actual :  unacc\n",
      "Predicted: good Data:  (0, 2, 0, 1, 1, 2) Actual :  good\n",
      "Predicted: good Data:  (1, 2, 3, 0, 1, 1) Actual :  good\n",
      "Predicted: good Data:  (2, 3, 3, 0, 2, 2) Actual :  good\n",
      "Predicted: good Data:  (1, 3, 3, 0, 0, 0) Actual :  good\n",
      "Predicted: unacc Data:  (2, 3, 3, 1, 1, 0) Actual :  unacc\n",
      "Predicted: good Data:  (3, 1, 0, 2, 2, 1) Actual :  good\n",
      "Predicted: good Data:  (1, 0, 3, 0, 0, 0) Actual :  good\n",
      "Predicted: good Data:  (0, 0, 2, 0, 2, 0) Actual :  good\n",
      "Predicted: good Data:  (2, 0, 1, 2, 2, 2) Actual :  good\n",
      "Predicted: good Data:  (1, 1, 0, 0, 0, 1) Actual :  good\n",
      "Predicted: good Data:  (2, 1, 1, 2, 2, 1) Actual :  good\n",
      "Predicted: good Data:  (0, 2, 2, 0, 2, 2) Actual :  good\n",
      "Predicted: good Data:  (2, 3, 0, 1, 1, 1) Actual :  good\n",
      "Predicted: good Data:  (0, 0, 3, 0, 2, 2) Actual :  good\n",
      "Predicted: unacc Data:  (1, 0, 1, 2, 1, 0) Actual :  vgood\n",
      "Predicted: good Data:  (1, 0, 0, 2, 1, 0) Actual :  unacc\n",
      "Predicted: good Data:  (1, 0, 0, 1, 2, 1) Actual :  good\n",
      "Predicted: vgood Data:  (2, 1, 3, 2, 1, 0) Actual :  vgood\n",
      "Predicted: unacc Data:  (2, 1, 0, 2, 0, 2) Actual :  acc\n",
      "Predicted: good Data:  (2, 2, 2, 2, 0, 1) Actual :  good\n",
      "Predicted: good Data:  (3, 2, 1, 1, 0, 1) Actual :  good\n",
      "Predicted: good Data:  (0, 3, 3, 2, 2, 1) Actual :  good\n",
      "Predicted: unacc Data:  (3, 1, 1, 2, 1, 0) Actual :  unacc\n",
      "Predicted: unacc Data:  (1, 2, 2, 2, 2, 0) Actual :  acc\n",
      "Predicted: good Data:  (0, 1, 0, 0, 2, 2) Actual :  good\n",
      "Predicted: good Data:  (3, 1, 3, 1, 1, 1) Actual :  good\n",
      "Predicted: good Data:  (3, 1, 3, 0, 0, 2) Actual :  good\n",
      "Predicted: good Data:  (1, 0, 1, 2, 1, 1) Actual :  good\n",
      "Predicted: unacc Data:  (0, 0, 2, 2, 1, 0) Actual :  unacc\n",
      "Predicted: good Data:  (0, 1, 1, 1, 1, 1) Actual :  good\n",
      "Predicted: good Data:  (2, 2, 2, 0, 1, 2) Actual :  good\n",
      "Predicted: good Data:  (0, 2, 3, 2, 2, 1) Actual :  good\n",
      "Predicted: good Data:  (1, 3, 0, 2, 2, 0) Actual :  good\n",
      "Predicted: good Data:  (2, 3, 0, 0, 1, 2) Actual :  good\n",
      "Predicted: good Data:  (1, 1, 3, 2, 1, 1) Actual :  good\n",
      "Predicted: good Data:  (0, 2, 3, 0, 0, 2) Actual :  good\n",
      "Predicted: unacc Data:  (0, 1, 3, 2, 0, 0) Actual :  unacc\n",
      "Predicted: good Data:  (2, 1, 2, 2, 0, 1) Actual :  good\n",
      "Predicted: unacc Data:  (1, 0, 3, 2, 2, 2) Actual :  unacc\n",
      "Predicted: unacc Data:  (1, 2, 0, 1, 2, 2) Actual :  unacc\n",
      "Predicted: unacc Data:  (3, 1, 2, 1, 0, 0) Actual :  unacc\n",
      "Predicted: good Data:  (0, 0, 0, 1, 2, 2) Actual :  good\n",
      "Predicted: unacc Data:  (1, 3, 3, 1, 1, 2) Actual :  unacc\n",
      "Predicted: vgood Data:  (2, 1, 3, 1, 0, 0) Actual :  vgood\n",
      "Predicted: good Data:  (1, 1, 1, 0, 0, 1) Actual :  good\n",
      "Predicted: unacc Data:  (0, 1, 0, 1, 0, 0) Actual :  unacc\n",
      "Predicted: good Data:  (3, 3, 0, 1, 2, 2) Actual :  good\n",
      "Predicted: unacc Data:  (3, 2, 3, 2, 0, 0) Actual :  unacc\n",
      "Predicted: good Data:  (0, 3, 0, 0, 0, 2) Actual :  good\n",
      "Predicted: vgood Data:  (1, 1, 2, 2, 1, 0) Actual :  vgood\n",
      "Predicted: good Data:  (0, 2, 0, 2, 1, 2) Actual :  good\n",
      "Predicted: unacc Data:  (2, 3, 1, 2, 1, 0) Actual :  unacc\n",
      "Predicted: good Data:  (3, 2, 0, 2, 0, 1) Actual :  good\n",
      "Predicted: good Data:  (0, 2, 3, 1, 1, 1) Actual :  good\n",
      "Predicted: vgood Data:  (1, 1, 1, 2, 0, 0) Actual :  vgood\n",
      "Predicted: good Data:  (3, 0, 0, 2, 2, 2) Actual :  good\n",
      "Predicted: good Data:  (3, 3, 3, 2, 1, 2) Actual :  good\n",
      "Predicted: good Data:  (0, 3, 3, 0, 0, 0) Actual :  good\n",
      "Predicted: good Data:  (3, 0, 3, 0, 2, 0) Actual :  good\n",
      "Predicted: good Data:  (1, 0, 1, 2, 0, 1) Actual :  good\n",
      "Predicted: good Data:  (1, 3, 1, 0, 1, 2) Actual :  good\n",
      "Predicted: good Data:  (0, 3, 3, 1, 2, 0) Actual :  good\n",
      "Predicted: good Data:  (0, 0, 3, 0, 0, 0) Actual :  good\n",
      "Predicted: good Data:  (1, 3, 2, 1, 2, 1) Actual :  good\n",
      "Predicted: unacc Data:  (3, 1, 0, 1, 1, 0) Actual :  unacc\n",
      "Predicted: good Data:  (0, 0, 0, 0, 1, 1) Actual :  good\n",
      "Predicted: good Data:  (3, 3, 3, 1, 2, 0) Actual :  good\n",
      "Predicted: unacc Data:  (2, 2, 0, 2, 0, 2) Actual :  unacc\n",
      "Predicted: good Data:  (0, 0, 2, 0, 0, 1) Actual :  good\n",
      "Predicted: good Data:  (1, 3, 0, 2, 1, 2) Actual :  good\n",
      "Predicted: good Data:  (2, 3, 3, 1, 2, 1) Actual :  good\n",
      "Predicted: unacc Data:  (3, 1, 2, 2, 1, 0) Actual :  unacc\n",
      "Predicted: good Data:  (3, 3, 1, 2, 0, 0) Actual :  good\n",
      "Predicted: unacc Data:  (1, 3, 3, 1, 2, 0) Actual :  unacc\n",
      "Predicted: good Data:  (0, 2, 0, 1, 2, 1) Actual :  good\n",
      "Predicted: good Data:  (0, 2, 1, 2, 1, 2) Actual :  unacc\n",
      "Predicted: good Data:  (3, 0, 3, 1, 2, 2) Actual :  good\n",
      "Predicted: unacc Data:  (3, 2, 2, 2, 0, 2) Actual :  unacc\n",
      "Predicted: unacc Data:  (0, 2, 2, 2, 0, 2) Actual :  unacc\n",
      "Predicted: good Data:  (0, 3, 2, 2, 1, 1) Actual :  good\n",
      "Predicted: vgood Data:  (1, 0, 3, 2, 1, 0) Actual :  vgood\n",
      "Predicted: good Data:  (0, 0, 1, 0, 0, 1) Actual :  good\n",
      "Predicted: good Data:  (3, 0, 2, 1, 0, 2) Actual :  good\n",
      "Predicted: good Data:  (1, 1, 0, 0, 0, 0) Actual :  good\n",
      "Predicted: good Data:  (3, 0, 3, 0, 1, 1) Actual :  good\n",
      "Predicted: good Data:  (3, 1, 1, 1, 0, 1) Actual :  good\n",
      "Predicted: good Data:  (3, 2, 1, 0, 1, 1) Actual :  good\n",
      "Predicted: unacc Data:  (2, 2, 3, 1, 0, 2) Actual :  unacc\n",
      "Predicted: good Data:  (1, 3, 3, 2, 1, 1) Actual :  good\n",
      "Predicted: good Data:  (3, 0, 0, 2, 0, 0) Actual :  good\n",
      "Predicted: good Data:  (0, 2, 1, 0, 0, 2) Actual :  good\n",
      "Predicted: good Data:  (3, 0, 3, 1, 2, 0) Actual :  good\n",
      "Predicted: good Data:  (2, 3, 0, 0, 2, 0) Actual :  good\n",
      "Predicted: good Data:  (0, 2, 3, 0, 0, 0) Actual :  good\n",
      "Predicted: good Data:  (3, 0, 3, 0, 2, 2) Actual :  good\n",
      "Predicted: good Data:  (2, 2, 3, 1, 2, 1) Actual :  good\n",
      "Predicted: good Data:  (1, 1, 2, 0, 1, 2) Actual :  good\n",
      "Predicted: good Data:  (1, 0, 1, 0, 2, 2) Actual :  good\n",
      "Predicted: good Data:  (3, 2, 3, 2, 1, 0) Actual :  unacc\n",
      "Predicted: acc Data:  (1, 1, 1, 1, 2, 0) Actual :  acc\n",
      "Predicted: good Data:  (2, 3, 3, 2, 1, 1) Actual :  good\n",
      "Predicted: good Data:  (2, 3, 0, 0, 0, 2) Actual :  good\n",
      "Predicted: good Data:  (3, 3, 2, 2, 2, 0) Actual :  good\n",
      "Predicted: good Data:  (2, 0, 2, 0, 0, 2) Actual :  good\n",
      "Predicted: unacc Data:  (1, 1, 2, 1, 1, 2) Actual :  acc\n",
      "Predicted: good Data:  (2, 0, 1, 2, 1, 1) Actual :  good\n",
      "Predicted: good Data:  (1, 1, 0, 2, 2, 0) Actual :  good\n",
      "Predicted: good Data:  (1, 2, 0, 0, 2, 0) Actual :  good\n",
      "Predicted: good Data:  (0, 0, 0, 0, 0, 2) Actual :  good\n",
      "Predicted: good Data:  (1, 1, 1, 1, 2, 1) Actual :  good\n",
      "Predicted: unacc Data:  (0, 2, 1, 2, 0, 2) Actual :  unacc\n",
      "Predicted: unacc Data:  (3, 2, 2, 2, 1, 0) Actual :  unacc\n",
      "Predicted: good Data:  (3, 3, 1, 0, 1, 2) Actual :  good\n",
      "Predicted: good Data:  (0, 2, 3, 0, 0, 1) Actual :  good\n",
      "Predicted: good Data:  (0, 3, 0, 2, 0, 1) Actual :  good\n",
      "Predicted: good Data:  (2, 3, 1, 1, 2, 1) Actual :  good\n",
      "Predicted: good Data:  (3, 1, 2, 1, 2, 2) Actual :  good\n",
      "Predicted: vgood Data:  (1, 1, 3, 2, 0, 0) Actual :  vgood\n",
      "Predicted: unacc Data:  (2, 3, 1, 1, 1, 0) Actual :  unacc\n",
      "Predicted: unacc Data:  (0, 0, 3, 2, 0, 0) Actual :  unacc\n",
      "Predicted: good Data:  (0, 3, 1, 2, 2, 0) Actual :  good\n",
      "Predicted: good Data:  (0, 1, 2, 0, 0, 1) Actual :  good\n",
      "Predicted: good Data:  (3, 3, 2, 2, 0, 2) Actual :  good\n",
      "Predicted: good Data:  (3, 2, 1, 0, 2, 0) Actual :  good\n",
      "Predicted: unacc Data:  (2, 2, 3, 1, 1, 2) Actual :  unacc\n",
      "Predicted: good Data:  (0, 2, 0, 2, 0, 0) Actual :  unacc\n",
      "Predicted: good Data:  (0, 3, 0, 2, 1, 1) Actual :  good\n",
      "Predicted: good Data:  (3, 2, 1, 0, 0, 1) Actual :  good\n",
      "Predicted: unacc Data:  (0, 2, 1, 2, 0, 0) Actual :  unacc\n",
      "Predicted: unacc Data:  (2, 3, 2, 1, 0, 2) Actual :  unacc\n",
      "Predicted: good Data:  (3, 1, 1, 2, 2, 2) Actual :  good\n",
      "Predicted: good Data:  (3, 2, 2, 2, 2, 1) Actual :  good\n",
      "Predicted: good Data:  (2, 3, 3, 0, 1, 1) Actual :  good\n",
      "Predicted: good Data:  (0, 2, 1, 0, 1, 2) Actual :  good\n",
      "Predicted: good Data:  (3, 3, 3, 0, 1, 0) Actual :  good\n",
      "Predicted: good Data:  (3, 2, 2, 1, 0, 1) Actual :  good\n",
      "Predicted: unacc Data:  (2, 2, 1, 1, 0, 2) Actual :  unacc\n",
      "Predicted: unacc Data:  (1, 2, 1, 2, 2, 0) Actual :  acc\n",
      "Predicted: good Data:  (0, 3, 2, 0, 2, 0) Actual :  good\n",
      "Predicted: good Data:  (0, 0, 2, 2, 0, 1) Actual :  good\n",
      "Predicted: good Data:  (3, 0, 2, 1, 1, 1) Actual :  good\n",
      "Predicted: unacc Data:  (1, 3, 2, 1, 0, 0) Actual :  unacc\n",
      "Predicted: good Data:  (0, 3, 3, 2, 0, 1) Actual :  good\n",
      "Predicted: unacc Data:  (1, 3, 3, 2, 0, 0) Actual :  unacc\n",
      "Predicted: unacc Data:  (0, 2, 0, 1, 1, 0) Actual :  unacc\n",
      "Predicted: good Data:  (2, 3, 3, 2, 0, 0) Actual :  unacc\n",
      "Predicted: good Data:  (1, 2, 1, 2, 2, 1) Actual :  good\n",
      "Predicted: good Data:  (1, 1, 0, 2, 2, 2) Actual :  good\n",
      "Predicted: good Data:  (2, 3, 3, 1, 0, 0) Actual :  unacc\n",
      "Predicted: good Data:  (0, 3, 2, 0, 1, 0) Actual :  good\n",
      "Predicted: good Data:  (2, 0, 2, 0, 0, 1) Actual :  good\n",
      "Predicted: good Data:  (3, 0, 0, 1, 2, 0) Actual :  good\n",
      "Predicted: good Data:  (1, 2, 1, 1, 2, 1) Actual :  good\n",
      "Predicted: unacc Data:  (0, 1, 1, 1, 1, 0) Actual :  unacc\n",
      "Predicted: good Data:  (1, 1, 3, 0, 1, 2) Actual :  good\n",
      "Predicted: unacc Data:  (0, 0, 1, 2, 0, 2) Actual :  unacc\n",
      "Predicted: good Data:  (3, 0, 3, 2, 0, 1) Actual :  good\n",
      "Predicted: unacc Data:  (2, 2, 2, 2, 1, 2) Actual :  unacc\n",
      "Predicted: good Data:  (1, 0, 3, 1, 2, 0) Actual :  unacc\n",
      "Predicted: good Data:  (0, 3, 2, 0, 1, 1) Actual :  good\n",
      "Predicted: vgood Data:  (2, 2, 2, 1, 1, 0) Actual :  vgood\n",
      "Predicted: good Data:  (2, 3, 3, 0, 0, 1) Actual :  good\n",
      "Predicted: good Data:  (3, 3, 1, 2, 2, 1) Actual :  good\n",
      "Predicted: good Data:  (1, 3, 2, 2, 0, 2) Actual :  unacc\n",
      "Predicted: good Data:  (2, 0, 2, 1, 2, 0) Actual :  unacc\n",
      "Predicted: good Data:  (2, 3, 1, 2, 2, 0) Actual :  unacc\n",
      "Predicted: good Data:  (3, 2, 2, 1, 2, 2) Actual :  good\n",
      "Predicted: good Data:  (1, 3, 2, 0, 2, 1) Actual :  good\n",
      "Predicted: good Data:  (1, 2, 1, 0, 0, 0) Actual :  good\n",
      "Predicted: good Data:  (2, 3, 2, 0, 2, 1) Actual :  good\n",
      "Predicted: good Data:  (2, 3, 2, 2, 2, 2) Actual :  good\n",
      "Predicted: good Data:  (0, 0, 3, 2, 1, 1) Actual :  good\n",
      "Predicted: unacc Data:  (2, 3, 2, 1, 2, 0) Actual :  unacc\n",
      "Predicted: good Data:  (3, 1, 2, 1, 1, 1) Actual :  good\n",
      "Predicted: unacc Data:  (1, 0, 0, 1, 2, 0) Actual :  unacc\n",
      "Predicted: unacc Data:  (1, 0, 3, 2, 2, 0) Actual :  unacc\n",
      "Predicted: good Data:  (0, 1, 2, 1, 1, 1) Actual :  good\n",
      "Predicted: good Data:  (0, 1, 3, 0, 2, 0) Actual :  good\n",
      "Predicted: good Data:  (1, 0, 1, 1, 2, 1) Actual :  good\n",
      "Predicted: good Data:  (2, 0, 0, 0, 1, 2) Actual :  good\n",
      "Predicted: unacc Data:  (1, 3, 3, 2, 0, 2) Actual :  unacc\n",
      "Predicted: good Data:  (0, 1, 1, 2, 1, 1) Actual :  good\n",
      "Predicted: unacc Data:  (2, 2, 2, 2, 0, 2) Actual :  unacc\n",
      "Predicted: unacc Data:  (2, 1, 0, 1, 1, 2) Actual :  unacc\n",
      "Predicted: good Data:  (1, 0, 1, 0, 2, 0) Actual :  good\n",
      "Predicted: good Data:  (0, 3, 0, 0, 2, 0) Actual :  good\n",
      "Predicted: unacc Data:  (1, 0, 2, 1, 2, 0) Actual :  unacc\n",
      "Predicted: good Data:  (2, 2, 1, 1, 0, 1) Actual :  good\n",
      "Predicted: good Data:  (2, 0, 0, 0, 0, 2) Actual :  good\n",
      "Predicted: good Data:  (3, 0, 1, 2, 1, 2) Actual :  good\n",
      "Predicted: good Data:  (1, 0, 0, 1, 0, 0) Actual :  vgood\n",
      "Predicted: good Data:  (3, 1, 3, 0, 2, 2) Actual :  good\n",
      "Predicted: good Data:  (1, 2, 3, 2, 2, 1) Actual :  good\n",
      "Predicted: good Data:  (3, 1, 1, 1, 1, 2) Actual :  good\n",
      "Predicted: good Data:  (3, 0, 0, 0, 1, 1) Actual :  good\n",
      "Predicted: good Data:  (0, 1, 0, 0, 0, 2) Actual :  good\n",
      "Predicted: good Data:  (0, 1, 2, 2, 0, 1) Actual :  good\n",
      "Predicted: good Data:  (3, 0, 3, 2, 0, 0) Actual :  good\n",
      "Predicted: vgood Data:  (1, 0, 2, 1, 0, 0) Actual :  vgood\n",
      "Predicted: good Data:  (1, 1, 1, 2, 1, 1) Actual :  good\n",
      "Predicted: good Data:  (1, 2, 2, 1, 2, 1) Actual :  good\n",
      "Predicted: good Data:  (3, 2, 0, 2, 1, 1) Actual :  good\n",
      "Predicted: unacc Data:  (2, 3, 1, 1, 0, 2) Actual :  unacc\n",
      "Predicted: good Data:  (1, 0, 0, 1, 1, 1) Actual :  good\n",
      "Predicted: good Data:  (2, 3, 3, 0, 1, 2) Actual :  good\n",
      "Predicted: good Data:  (3, 3, 3, 2, 0, 0) Actual :  good\n",
      "Predicted: good Data:  (1, 0, 3, 0, 0, 2) Actual :  good\n",
      "Predicted: unacc Data:  (3, 2, 3, 1, 0, 0) Actual :  unacc\n",
      "Predicted: good Data:  (3, 1, 3, 1, 0, 2) Actual :  unacc\n",
      "Predicted: good Data:  (2, 0, 1, 2, 0, 1) Actual :  good\n",
      "Predicted: good Data:  (1, 2, 2, 0, 2, 2) Actual :  good\n",
      "Predicted: good Data:  (3, 2, 3, 0, 0, 0) Actual :  good\n",
      "Predicted: unacc Data:  (0, 2, 0, 2, 0, 2) Actual :  unacc\n",
      "Predicted: good Data:  (3, 3, 3, 1, 2, 1) Actual :  good\n",
      "Predicted: unacc Data:  (2, 2, 1, 2, 2, 2) Actual :  unacc\n",
      "Predicted: good Data:  (1, 0, 3, 0, 0, 1) Actual :  good\n",
      "Predicted: good Data:  (3, 1, 1, 1, 0, 2) Actual :  unacc\n",
      "Predicted: good Data:  (0, 3, 1, 1, 1, 2) Actual :  good\n",
      "Predicted: good Data:  (0, 1, 1, 2, 2, 1) Actual :  good\n",
      "Predicted: good Data:  (0, 0, 3, 0, 1, 2) Actual :  good\n",
      "Predicted: good Data:  (3, 0, 2, 2, 0, 2) Actual :  good\n",
      "Predicted: good Data:  (3, 0, 0, 2, 1, 0) Actual :  good\n",
      "Predicted: good Data:  (0, 1, 2, 1, 2, 1) Actual :  good\n",
      "Predicted: vgood Data:  (1, 1, 2, 1, 0, 0) Actual :  vgood\n",
      "Predicted: good Data:  (0, 0, 0, 1, 0, 2) Actual :  unacc\n",
      "Predicted: good Data:  (3, 0, 2, 2, 2, 2) Actual :  good\n",
      "Predicted: good Data:  (0, 0, 1, 2, 2, 2) Actual :  good\n",
      "Predicted: good Data:  (0, 0, 1, 1, 1, 2) Actual :  good\n",
      "Predicted: good Data:  (0, 3, 1, 0, 0, 1) Actual :  good\n",
      "Predicted: good Data:  (0, 2, 3, 1, 2, 1) Actual :  good\n",
      "Predicted: good Data:  (3, 3, 2, 1, 2, 1) Actual :  good\n",
      "Predicted: good Data:  (0, 1, 2, 0, 0, 2) Actual :  good\n",
      "Predicted: good Data:  (3, 1, 0, 1, 1, 1) Actual :  good\n",
      "Predicted: good Data:  (3, 3, 1, 1, 2, 0) Actual :  good\n",
      "Predicted: good Data:  (1, 3, 1, 0, 2, 2) Actual :  good\n",
      "Predicted: good Data:  (2, 1, 1, 0, 2, 2) Actual :  good\n",
      "Predicted: good Data:  (1, 2, 3, 0, 2, 2) Actual :  good\n",
      "Predicted: good Data:  (2, 1, 1, 0, 1, 1) Actual :  good\n",
      "Predicted: good Data:  (3, 0, 1, 1, 1, 0) Actual :  good\n",
      "Predicted: good Data:  (1, 2, 1, 2, 1, 1) Actual :  good\n",
      "Predicted: good Data:  (0, 0, 0, 0, 0, 0) Actual :  good\n",
      "Predicted: good Data:  (0, 3, 1, 2, 1, 1) Actual :  good\n",
      "Predicted: good Data:  (3, 0, 0, 0, 2, 1) Actual :  good\n",
      "Predicted: good Data:  (2, 0, 1, 0, 1, 1) Actual :  good\n",
      "Predicted: good Data:  (0, 2, 1, 2, 0, 1) Actual :  good\n",
      "Predicted: good Data:  (2, 3, 1, 1, 1, 2) Actual :  good\n",
      "Predicted: good Data:  (0, 0, 2, 0, 2, 2) Actual :  good\n",
      "Predicted: good Data:  (1, 1, 1, 1, 0, 1) Actual :  good\n",
      "Predicted: good Data:  (2, 2, 2, 1, 0, 1) Actual :  good\n",
      "Predicted: good Data:  (3, 3, 2, 2, 0, 1) Actual :  good\n",
      "Predicted: good Data:  (2, 0, 3, 0, 1, 0) Actual :  good\n",
      "Predicted: unacc Data:  (1, 0, 0, 1, 0, 2) Actual :  unacc\n",
      "Predicted: acc Data:  (1, 2, 2, 2, 0, 2) Actual :  acc\n",
      "Predicted: unacc Data:  (1, 1, 3, 2, 2, 2) Actual :  unacc\n",
      "Predicted: good Data:  (2, 2, 0, 0, 2, 1) Actual :  good\n",
      "Predicted: good Data:  (3, 3, 1, 1, 0, 0) Actual :  good\n",
      "Predicted: good Data:  (3, 0, 2, 2, 1, 1) Actual :  good\n",
      "Predicted: good Data:  (2, 2, 3, 2, 1, 1) Actual :  good\n",
      "Predicted: good Data:  (3, 0, 2, 1, 1, 2) Actual :  good\n",
      "Predicted: good Data:  (1, 1, 3, 0, 0, 1) Actual :  good\n",
      "Predicted: good Data:  (1, 3, 1, 2, 2, 2) Actual :  good\n",
      "Predicted: unacc Data:  (2, 2, 2, 1, 2, 0) Actual :  unacc\n",
      "Predicted: good Data:  (2, 0, 1, 2, 2, 0) Actual :  unacc\n",
      "Predicted: vgood Data:  (2, 2, 1, 2, 0, 0) Actual :  vgood\n",
      "Predicted: good Data:  (1, 2, 0, 2, 0, 1) Actual :  good\n",
      "Predicted: good Data:  (2, 2, 2, 0, 2, 1) Actual :  good\n",
      "Predicted: good Data:  (3, 2, 0, 0, 1, 2) Actual :  good\n",
      "Predicted: good Data:  (1, 0, 2, 0, 1, 0) Actual :  good\n",
      "Predicted: good Data:  (3, 3, 3, 2, 0, 1) Actual :  good\n",
      "Predicted: good Data:  (3, 0, 1, 0, 2, 1) Actual :  good\n",
      "Predicted: unacc Data:  (3, 1, 1, 2, 0, 0) Actual :  unacc\n",
      "Predicted: good Data:  (3, 3, 2, 0, 2, 2) Actual :  good\n",
      "Predicted: unacc Data:  (1, 0, 1, 1, 2, 2) Actual :  unacc\n",
      "Predicted: good Data:  (1, 2, 1, 0, 1, 2) Actual :  good\n",
      "Predicted: good Data:  (3, 0, 3, 2, 1, 1) Actual :  good\n",
      "Predicted: good Data:  (0, 3, 0, 1, 2, 1) Actual :  good\n",
      "Predicted: good Data:  (0, 1, 3, 0, 1, 2) Actual :  good\n",
      "Predicted: good Data:  (0, 0, 1, 0, 1, 0) Actual :  good\n",
      "Predicted: good Data:  (2, 0, 1, 0, 0, 2) Actual :  good\n",
      "Predicted: good Data:  (2, 1, 3, 2, 1, 1) Actual :  good\n",
      "Predicted: unacc Data:  (2, 0, 2, 2, 1, 0) Actual :  unacc\n",
      "Predicted: good Data:  (2, 3, 2, 0, 2, 2) Actual :  good\n",
      "Predicted: good Data:  (0, 2, 2, 0, 0, 2) Actual :  good\n",
      "Predicted: unacc Data:  (2, 2, 3, 2, 1, 2) Actual :  unacc\n",
      "Predicted: good Data:  (2, 3, 0, 2, 1, 1) Actual :  good\n",
      "Predicted: good Data:  (3, 2, 0, 2, 2, 2) Actual :  good\n",
      "Predicted: unacc Data:  (0, 1, 1, 2, 0, 0) Actual :  unacc\n",
      "Predicted: good Data:  (0, 2, 1, 0, 2, 2) Actual :  good\n",
      "Predicted: good Data:  (2, 1, 0, 0, 1, 1) Actual :  good\n",
      "Predicted: good Data:  (3, 3, 3, 1, 0, 1) Actual :  good\n",
      "Predicted: good Data:  (3, 2, 0, 1, 1, 1) Actual :  good\n",
      "Predicted: good Data:  (0, 2, 2, 2, 1, 1) Actual :  good\n",
      "Predicted: good Data:  (3, 0, 3, 1, 0, 2) Actual :  good\n",
      "Predicted: good Data:  (2, 2, 0, 0, 0, 2) Actual :  good\n",
      "Predicted: good Data:  (3, 3, 2, 2, 2, 1) Actual :  good\n",
      "Predicted: good Data:  (3, 1, 1, 0, 2, 0) Actual :  good\n",
      "Predicted: unacc Data:  (1, 0, 0, 1, 1, 0) Actual :  unacc\n",
      "Predicted: good Data:  (1, 3, 0, 0, 2, 0) Actual :  good\n",
      "Predicted: good Data:  (1, 1, 2, 2, 1, 1) Actual :  good\n",
      "Predicted: unacc Data:  (2, 2, 0, 2, 1, 0) Actual :  unacc\n",
      "Predicted: good Data:  (3, 3, 0, 1, 0, 1) Actual :  good\n",
      "Predicted: good Data:  (2, 3, 1, 2, 2, 2) Actual :  good\n",
      "Predicted: unacc Data:  (3, 0, 3, 2, 1, 2) Actual :  good\n",
      "Predicted: good Data:  (2, 0, 0, 2, 2, 1) Actual :  good\n",
      "Predicted: good Data:  (0, 1, 0, 1, 1, 1) Actual :  good\n",
      "Predicted: good Data:  (3, 1, 1, 0, 0, 1) Actual :  good\n",
      "Predicted: good Data:  (1, 3, 0, 1, 2, 2) Actual :  good\n",
      "Predicted: unacc Data:  (1, 2, 1, 1, 1, 2) Actual :  unacc\n",
      "Predicted: unacc Data:  (1, 1, 1, 1, 2, 2) Actual :  unacc\n",
      "Predicted: unacc Data:  (1, 2, 2, 1, 2, 0) Actual :  acc\n",
      "Predicted: unacc Data:  (2, 0, 2, 2, 1, 2) Actual :  unacc\n",
      "Predicted: good Data:  (3, 1, 2, 1, 0, 2) Actual :  unacc\n",
      "Predicted: good Data:  (0, 3, 1, 1, 1, 0) Actual :  good\n",
      "Predicted: good Data:  (2, 3, 3, 2, 2, 1) Actual :  good\n",
      "Predicted: good Data:  (3, 2, 2, 0, 0, 0) Actual :  good\n",
      "Predicted: good Data:  (1, 1, 3, 0, 2, 1) Actual :  good\n",
      "Predicted: good Data:  (1, 3, 0, 0, 1, 1) Actual :  good\n",
      "Predicted: good Data:  (0, 1, 1, 1, 0, 1) Actual :  good\n",
      "Predicted: unacc Data:  (1, 3, 2, 2, 1, 0) Actual :  unacc\n",
      "Predicted: good Data:  (2, 0, 1, 1, 2, 0) Actual :  unacc\n",
      "Predicted: good Data:  (1, 0, 3, 0, 2, 0) Actual :  good\n",
      "Predicted: good Data:  (2, 0, 3, 2, 2, 1) Actual :  good\n",
      "Predicted: unacc Data:  (0, 2, 3, 1, 2, 0) Actual :  unacc\n",
      "Predicted: good Data:  (0, 3, 2, 1, 0, 1) Actual :  good\n"
     ]
    }
   ],
   "source": [
    "for x in range(len(predicted)):\n",
    "    print(\"Predicted:\",names[predicted[x]], \"Data: \",X_test[x], \"Actual : \", names[y_test[x]])"
   ]
  },
  {
   "cell_type": "markdown",
   "id": "c90eb76d-52d2-41fe-b342-34a800857b20",
   "metadata": {},
   "source": [
    "### Plot the car condition chart "
   ]
  },
  {
   "cell_type": "code",
   "execution_count": 47,
   "id": "e54ed617-c180-4a16-b56a-1465a07e8ef6",
   "metadata": {},
   "outputs": [],
   "source": [
    "class_counts = df['class'].value_counts()"
   ]
  },
  {
   "cell_type": "code",
   "execution_count": 45,
   "id": "5e941480-1030-4483-b87b-0d82960e7034",
   "metadata": {},
   "outputs": [
    {
     "data": {
      "text/plain": [
       "class\n",
       "unacc    1210\n",
       "acc       384\n",
       "good       69\n",
       "vgood      65\n",
       "Name: count, dtype: int64"
      ]
     },
     "execution_count": 45,
     "metadata": {},
     "output_type": "execute_result"
    }
   ],
   "source": [
    "class_counts"
   ]
  },
  {
   "cell_type": "code",
   "execution_count": 46,
   "id": "ba58a01b-5ba3-46b7-ac40-1ed19308bff9",
   "metadata": {},
   "outputs": [
    {
     "data": {
      "image/png": "[encoded data removed]",
      "text/plain": [
       "<Figure size 800x800 with 1 Axes>"
      ]
     },
     "metadata": {},
     "output_type": "display_data"
    }
   ],
   "source": [
    "plt.figure(figsize=(8, 8))\n",
    "plt.pie(class_counts, labels=class_counts.index, autopct='%1.1f%%', startangle=140)\n",
    "plt.title('Distribution of Cars by Class')\n",
    "plt.show()\n"
   ]
  },
  {
   "cell_type": "code",
   "execution_count": null,
   "id": "62949cf5-86eb-4caf-8715-a80833fe277a",
   "metadata": {},
   "outputs": [],
   "source": []
  }
 ],
 "metadata": {
  "kernelspec": {
   "display_name": "Python 3 (ipykernel)",
   "language": "python",
   "name": "python3"
  },
  "language_info": {
   "codemirror_mode": {
    "name": "ipython",
    "version": 3
   },
   "file_extension": ".py",
   "mimetype": "text/x-python",
   "name": "python",
   "nbconvert_exporter": "python",
   "pygments_lexer": "ipython3",
   "version": "3.10.11"
  }
 },
 "nbformat": 4,
 "nbformat_minor": 5
}
